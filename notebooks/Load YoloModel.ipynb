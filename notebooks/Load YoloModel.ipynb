{
 "cells": [
  {
   "cell_type": "markdown",
   "metadata": {
    "toc": true
   },
   "source": [
    "<h1>Table of Contents<span class=\"tocSkip\"></span></h1>\n",
    "<div class=\"toc\"><ul class=\"toc-item\"><li><span><a href=\"#Dataset\" data-toc-modified-id=\"Dataset-1\"><span class=\"toc-item-num\">1&nbsp;&nbsp;</span>Dataset</a></span></li><li><span><a href=\"#Model\" data-toc-modified-id=\"Model-2\"><span class=\"toc-item-num\">2&nbsp;&nbsp;</span>Model</a></span></li><li><span><a href=\"#Data-Augmentation\" data-toc-modified-id=\"Data-Augmentation-3\"><span class=\"toc-item-num\">3&nbsp;&nbsp;</span>Data Augmentation</a></span></li><li><span><a href=\"#Input-pipeline\" data-toc-modified-id=\"Input-pipeline-4\"><span class=\"toc-item-num\">4&nbsp;&nbsp;</span>Input pipeline</a></span></li><li><span><a href=\"#Train\" data-toc-modified-id=\"Train-5\"><span class=\"toc-item-num\">5&nbsp;&nbsp;</span>Train</a></span></li><li><span><a href=\"#Scrap\" data-toc-modified-id=\"Scrap-6\"><span class=\"toc-item-num\">6&nbsp;&nbsp;</span>Scrap</a></span></li></ul></div>"
   ]
  },
  {
   "cell_type": "code",
   "execution_count": null,
   "metadata": {
    "ExecuteTime": {
     "end_time": "2019-07-15T19:11:22.156978Z",
     "start_time": "2019-07-15T19:11:21.707111Z"
    }
   },
   "outputs": [],
   "source": [
    "%load_ext autoreload\n",
    "%autoreload 2\n",
    "\n",
    "# Does not seem to work with TF2.0 yet\n",
    "# %load_ext tensorboard\n",
    "%matplotlib inline\n",
    "\n",
    "import logging\n",
    "logging.getLogger(\"tensorflow\").setLevel(logging.ERROR)"
   ]
  },
  {
   "cell_type": "code",
   "execution_count": null,
   "metadata": {
    "ExecuteTime": {
     "end_time": "2019-07-15T19:11:25.677957Z",
     "start_time": "2019-07-15T19:11:22.452408Z"
    }
   },
   "outputs": [],
   "source": [
    "import tensorflow as tf\n",
    "\n",
    "# Copied from: https://www.tensorflow.org/beta/guide/using_gpu\n",
    "tf.debugging.set_log_device_placement(True)\n",
    "\n",
    "# Adapted from: https://www.tensorflow.org/beta/guide/using_gpu\n",
    "gpus = tf.config.experimental.list_physical_devices('GPU')\n",
    "if gpus:\n",
    "    # Restrict TensorFlow to only use the first GPU\n",
    "    try:\n",
    "        for gpu in gpus:\n",
    "            tf.config.experimental.set_memory_growth(gpu, True)\n",
    "        tf.config.experimental.set_visible_devices(gpus[1], 'GPU')\n",
    "        logical_gpus = tf.config.experimental.list_logical_devices('GPU')\n",
    "        print(len(gpus), \"Physical GPUs,\", len(logical_gpus), \"Logical GPU\")\n",
    "    except RuntimeError as e:\n",
    "        # Visible devices must be set before GPUs have been initialized\n",
    "        print(e)"
   ]
  },
  {
   "cell_type": "markdown",
   "metadata": {
    "ExecuteTime": {
     "end_time": "2019-06-12T13:59:03.531935Z",
     "start_time": "2019-06-12T13:59:03.493367Z"
    }
   },
   "source": [
    "## Dataset"
   ]
  },
  {
   "cell_type": "code",
   "execution_count": null,
   "metadata": {
    "ExecuteTime": {
     "end_time": "2019-07-15T19:11:26.008898Z",
     "start_time": "2019-07-15T19:11:25.681906Z"
    }
   },
   "outputs": [],
   "source": [
    "from pathlib import Path\n",
    "\n",
    "from nucleus.dataset.detections import BasketballDetectionsDataset\n",
    "from nucleus.visualize import BasketballDetectionsLabelColorMap"
   ]
  },
  {
   "cell_type": "code",
   "execution_count": null,
   "metadata": {
    "ExecuteTime": {
     "end_time": "2019-07-15T19:11:26.224348Z",
     "start_time": "2019-07-15T19:11:26.172304Z"
    }
   },
   "outputs": [],
   "source": [
    "cache = Path('/data1/joan/nucleus/dataset_cache/')"
   ]
  },
  {
   "cell_type": "code",
   "execution_count": null,
   "metadata": {
    "ExecuteTime": {
     "end_time": "2019-07-15T19:11:27.823330Z",
     "start_time": "2019-07-15T19:11:27.194501Z"
    }
   },
   "outputs": [],
   "source": [
    "dataset = BasketballDetectionsDataset.load(\n",
    "    path=cache / 'basketball_detections' / 'basketball_detections.json'\n",
    ")"
   ]
  },
  {
   "cell_type": "code",
   "execution_count": null,
   "metadata": {
    "ExecuteTime": {
     "end_time": "2019-07-15T19:11:32.909316Z",
     "start_time": "2019-07-15T19:11:29.576145Z"
    }
   },
   "outputs": [],
   "source": [
    "img = dataset.images[0]\n",
    "box_args = dict(label_color_map=BasketballDetectionsLabelColorMap)\n",
    "\n",
    "\n",
    "img.view(box_args=box_args)"
   ]
  },
  {
   "cell_type": "markdown",
   "metadata": {
    "ExecuteTime": {
     "end_time": "2019-06-14T14:28:31.791565Z",
     "start_time": "2019-06-14T14:28:31.725449Z"
    }
   },
   "source": [
    "## Model"
   ]
  },
  {
   "cell_type": "code",
   "execution_count": null,
   "metadata": {
    "ExecuteTime": {
     "end_time": "2019-07-15T19:11:45.229705Z",
     "start_time": "2019-07-15T19:11:45.131075Z"
    }
   },
   "outputs": [],
   "source": [
    "from nucleus.detection import *"
   ]
  },
  {
   "cell_type": "code",
   "execution_count": null,
   "metadata": {
    "ExecuteTime": {
     "end_time": "2019-07-15T19:11:46.367029Z",
     "start_time": "2019-07-15T19:11:46.299126Z"
    }
   },
   "outputs": [],
   "source": [
    "backbone_manager = MobileNetV2Manager()"
   ]
  },
  {
   "cell_type": "code",
   "execution_count": null,
   "metadata": {
    "ExecuteTime": {
     "end_time": "2019-07-15T19:15:33.503033Z",
     "start_time": "2019-07-15T19:15:28.407674Z"
    }
   },
   "outputs": [],
   "source": [
    "backbone = backbone_manager.create_model(\n",
    "    input_shape=(None, None, 3),\n",
    "    alpha=0.35\n",
    ")"
   ]
  },
  {
   "cell_type": "code",
   "execution_count": null,
   "metadata": {
    "ExecuteTime": {
     "end_time": "2019-07-15T19:15:33.549251Z",
     "start_time": "2019-07-15T19:15:33.506478Z"
    }
   },
   "outputs": [],
   "source": [
    "detector_manager = YoloManager()"
   ]
  },
  {
   "cell_type": "code",
   "execution_count": null,
   "metadata": {
    "ExecuteTime": {
     "end_time": "2019-07-15T19:16:50.532464Z",
     "start_time": "2019-07-15T19:16:45.166049Z"
    }
   },
   "outputs": [],
   "source": [
    "detector = detector_manager.load_model(\n",
    "    save_format='tf',\n",
    "    custom_objects=backbone_manager.custom_objects\n",
    ")"
   ]
  },
  {
   "cell_type": "markdown",
   "metadata": {},
   "source": [
    "## Scrap"
   ]
  },
  {
   "cell_type": "code",
   "execution_count": null,
   "metadata": {
    "ExecuteTime": {
     "end_time": "2019-07-15T19:20:55.448171Z",
     "start_time": "2019-07-15T19:20:55.391597Z"
    }
   },
   "outputs": [],
   "source": [
    "from nucleus.image import *\n",
    "from nucleus.box import *"
   ]
  },
  {
   "cell_type": "code",
   "execution_count": null,
   "metadata": {
    "ExecuteTime": {
     "end_time": "2019-07-15T19:19:00.891921Z",
     "start_time": "2019-07-15T19:19:00.455746Z"
    }
   },
   "outputs": [],
   "source": [
    "batch_size = 6\n",
    "\n",
    "ds_val = dataset.get_ds(\n",
    "    partition='val', \n",
    "    n_examples=10,\n",
    "    shuffle=None,\n",
    "    repeat=1,\n",
    "    batch=batch_size\n",
    ")"
   ]
  },
  {
   "cell_type": "code",
   "execution_count": null,
   "metadata": {
    "ExecuteTime": {
     "end_time": "2019-07-15T19:19:08.208824Z",
     "start_time": "2019-07-15T19:19:07.167782Z"
    }
   },
   "outputs": [],
   "source": [
    "for images, _ in ds_val.take(1):\n",
    "    print(images.shape, images.dtype)"
   ]
  },
  {
   "cell_type": "code",
   "execution_count": null,
   "metadata": {
    "ExecuteTime": {
     "end_time": "2019-07-15T19:22:36.084945Z",
     "start_time": "2019-07-15T19:22:35.154135Z"
    }
   },
   "outputs": [],
   "source": [
    "inference_detector = detector_manager.create_inference_model(\n",
    "    model=detector,\n",
    "    score_threshold=0.5,\n",
    "    nms_iou_threshold=0.25\n",
    ")"
   ]
  },
  {
   "cell_type": "code",
   "execution_count": null,
   "metadata": {
    "ExecuteTime": {
     "end_time": "2019-07-15T19:22:38.080455Z",
     "start_time": "2019-07-15T19:22:36.087642Z"
    }
   },
   "outputs": [],
   "source": [
    "detections = tf.convert_to_tensor(inference_detector.predict(images))"
   ]
  },
  {
   "cell_type": "code",
   "execution_count": null,
   "metadata": {
    "ExecuteTime": {
     "end_time": "2019-07-15T19:22:48.174493Z",
     "start_time": "2019-07-15T19:22:38.084412Z"
    },
    "scrolled": false
   },
   "outputs": [],
   "source": [
    "for i in range(batch_size):\n",
    "    box_collection = BoxCollection.from_tensor(\n",
    "        tensor = unpad_tensor(detections[i]), \n",
    "        unique_labels=dataset.unique_boxes_labels\n",
    "    )\n",
    "    img = Image.from_hwc(hwc=images[i], box_collection=box_collection)\n",
    "\n",
    "    img.view(figure_id=i, box_args=box_args)"
   ]
  }
 ],
 "metadata": {
  "kernelspec": {
   "display_name": "Python 3",
   "language": "python",
   "name": "python3"
  },
  "language_info": {
   "codemirror_mode": {
    "name": "ipython",
    "version": 3
   },
   "file_extension": ".py",
   "mimetype": "text/x-python",
   "name": "python",
   "nbconvert_exporter": "python",
   "pygments_lexer": "ipython3",
   "version": "3.6.0"
  },
  "toc": {
   "base_numbering": 1,
   "nav_menu": {},
   "number_sections": true,
   "sideBar": true,
   "skip_h1_title": true,
   "title_cell": "Table of Contents",
   "title_sidebar": "Contents",
   "toc_cell": true,
   "toc_position": {
    "height": "calc(100% - 180px)",
    "left": "10px",
    "top": "150px",
    "width": "191px"
   },
   "toc_section_display": true,
   "toc_window_display": true
  }
 },
 "nbformat": 4,
 "nbformat_minor": 2
}
