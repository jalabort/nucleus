{
 "cells": [
  {
   "cell_type": "code",
   "execution_count": null,
   "metadata": {},
   "outputs": [],
   "source": [
    "%load_ext autoreload\n",
    "%autoreload 2\n",
    "\n",
    "%matplotlib inline"
   ]
  },
  {
   "cell_type": "markdown",
   "metadata": {},
   "source": [
    "Initialize the `Intermediate Jesey Dataset` from `s3`:"
   ]
  },
  {
   "cell_type": "code",
   "execution_count": null,
   "metadata": {},
   "outputs": [],
   "source": [
    "from nucleus.dataset.vq import VqDataset\n",
    "\n",
    "\n",
    "ds = VqDataset.from_s3(\n",
    "    name='IntermediateJerseyDataset',\n",
    "    bucket='hudlrd-experiments',\n",
    "    key='jersey-tagging/development',\n",
    "    n_jobs=None,\n",
    "    show_progress=True\n",
    ")"
   ]
  },
  {
   "cell_type": "markdown",
   "metadata": {},
   "source": [
    "Visualize some images from this dataset:"
   ]
  },
  {
   "cell_type": "code",
   "execution_count": null,
   "metadata": {
    "scrolled": false
   },
   "outputs": [],
   "source": [
    "%time ds.view_row(0)"
   ]
  },
  {
   "cell_type": "code",
   "execution_count": null,
   "metadata": {},
   "outputs": [],
   "source": [
    "%time ds.view_row(1)"
   ]
  },
  {
   "cell_type": "markdown",
   "metadata": {},
   "source": [
    "Images are being accessed from s3, this is quite slow:"
   ]
  },
  {
   "cell_type": "code",
   "execution_count": null,
   "metadata": {},
   "outputs": [],
   "source": [
    "%time row, image = ds[0]"
   ]
  },
  {
   "cell_type": "markdown",
   "metadata": {},
   "source": [
    "To gain faster access to the images let us save them locally:"
   ]
  },
  {
   "cell_type": "code",
   "execution_count": null,
   "metadata": {},
   "outputs": [],
   "source": [
    "ds.save()"
   ]
  },
  {
   "cell_type": "code",
   "execution_count": null,
   "metadata": {},
   "outputs": [],
   "source": [
    "%time row, image = ds[0]"
   ]
  },
  {
   "cell_type": "code",
   "execution_count": null,
   "metadata": {
    "scrolled": false
   },
   "outputs": [],
   "source": [
    "ds.view_row(0)"
   ]
  },
  {
   "cell_type": "code",
   "execution_count": null,
   "metadata": {},
   "outputs": [],
   "source": [
    "ds.view_row(1)"
   ]
  },
  {
   "cell_type": "markdown",
   "metadata": {},
   "source": [
    "Create `Real Jersey Dataset`:"
   ]
  },
  {
   "cell_type": "code",
   "execution_count": null,
   "metadata": {},
   "outputs": [],
   "source": [
    "from typing import Optional, List\n",
    "\n",
    "import pathlib\n",
    "import pandas as pd\n",
    "\n",
    "from hudl_aws.s3 import write_to_s3, ContentType\n",
    "\n",
    "from nucleus.dataset import quilt_tools\n",
    "from nucleus.dataset.keys import DatasetKeys\n",
    "from nucleus.utils import progress_bar"
   ]
  },
  {
   "cell_type": "code",
   "execution_count": null,
   "metadata": {},
   "outputs": [],
   "source": [
    "def create_dataset_from_boxes(\n",
    "    dataset,\n",
    "    name: str,\n",
    "    cache: str = './dataset_cache',\n",
    "    skip_labels: Optional[List[str]] = None,\n",
    "    compress: bool = True,\n",
    "    image_format: str = 'png'\n",
    "):\n",
    "    r\"\"\"\n",
    "    \"\"\"\n",
    "    cache = pathlib.Path(cache)\n",
    "    full_cache = cache / name\n",
    "    full_cache.mkdir(parents=True, exist_ok=True)\n",
    "\n",
    "    records = []\n",
    "    for row, image in progress_bar(ds):\n",
    "        path = pathlib.Path(row[DatasetKeys.PATH.value])\n",
    "        for i, crop in enumerate(image.images_from_box_collection(skip_labels=skip_labels)):\n",
    "            path_crop = full_cache / f'{path.stem}_{i}.{image_format}'\n",
    "            \n",
    "            crop.save(\n",
    "                path=path_crop, \n",
    "                compress=compress,\n",
    "                image_format=image_format\n",
    "            )\n",
    "            \n",
    "            parsed = crop.serialize(path=path_crop)\n",
    "            records.append(parsed)\n",
    "            \n",
    "    df = pd.DataFrame.from_records(records)\n",
    "    \n",
    "    return VqDataset(name=name, df=df, cache=cache)"
   ]
  },
  {
   "cell_type": "code",
   "execution_count": null,
   "metadata": {},
   "outputs": [],
   "source": [
    "new_ds = create_dataset_from_boxes(\n",
    "    dataset=ds, \n",
    "    name='RealJerseyDataset', \n",
    "    cache='./dataset_cache',\n",
    "    skip_labels=['partial'],\n",
    ")\n",
    "\n",
    "new_ds.df"
   ]
  },
  {
   "cell_type": "code",
   "execution_count": null,
   "metadata": {},
   "outputs": [],
   "source": [
    "%time row, image = new_ds[0]"
   ]
  },
  {
   "cell_type": "code",
   "execution_count": null,
   "metadata": {},
   "outputs": [],
   "source": [
    "new_ds.upload_images_to_s3(\n",
    "    bucket='hudlrd-experiments',\n",
    "    key='jersey-tagging/images',\n",
    ")\n",
    "\n",
    "new_ds.df"
   ]
  },
  {
   "cell_type": "code",
   "execution_count": null,
   "metadata": {},
   "outputs": [],
   "source": [
    "%time row, image = new_ds[0]"
   ]
  },
  {
   "cell_type": "code",
   "execution_count": null,
   "metadata": {},
   "outputs": [],
   "source": [
    "new_ds.view_row(99)"
   ]
  },
  {
   "cell_type": "code",
   "execution_count": null,
   "metadata": {},
   "outputs": [],
   "source": [
    "new_ds.update_quilt_df(\n",
    "    user='hudlrd',\n",
    "    pkg='basketball_jerseys'\n",
    ")"
   ]
  },
  {
   "cell_type": "markdown",
   "metadata": {},
   "source": [
    "# END"
   ]
  },
  {
   "cell_type": "markdown",
   "metadata": {},
   "source": [
    "# Scrap"
   ]
  },
  {
   "cell_type": "code",
   "execution_count": null,
   "metadata": {},
   "outputs": [],
   "source": [
    "def create_quilt_dataset(\n",
    "    ds,\n",
    "    user: str = 'hudlrd',\n",
    "    pkg: str = 'baskeball_jerseys',\n",
    "    readme: Optional[str] = None,\n",
    "    hash_key: Optional[str] = None,\n",
    "    bucket: str = 'hudlrd-experiments',\n",
    "    key: str = 'jersey-tagging/images',\n",
    "    image_format: str = 'png'\n",
    "):\n",
    "    r\"\"\"\n",
    "    \"\"\"\n",
    "    for row, image in progress_bar(ds):\n",
    "        stem = pathlib.Path(row[DatasetKeys.PATH.value]).stem\n",
    "        write_to_s3(\n",
    "            data=image.bytes(image_format=image_format),\n",
    "            bucket=bucket,\n",
    "            key=f'{key}/{stem}.{image_format}',\n",
    "            content_type=ContentType[image_format]\n",
    "        )\n",
    "    \n",
    "    if readme is None:\n",
    "        readme = self.create_default_readme(self.df)\n",
    "    quilt_tools.update_df(\n",
    "        ds.df,\n",
    "        user=user,\n",
    "        pkg=pkg,\n",
    "        readme=readme,\n",
    "        hash_key=hash_key\n",
    "    )"
   ]
  },
  {
   "cell_type": "code",
   "execution_count": null,
   "metadata": {},
   "outputs": [],
   "source": [
    "def create_quilt_dataset(\n",
    "    ds,\n",
    "    user: str = 'hudlrd',\n",
    "    pkg: str = 'baskeball_jerseys',\n",
    "    readme: Optional[str] = None,\n",
    "    hash_key: Optional[str] = None,\n",
    "    bucket: str = 'hudlrd-experiments',\n",
    "    key: str = 'jersey-tagging/images',\n",
    "    image_format: str = 'png'\n",
    "):\n",
    "    r\"\"\"\n",
    "    \"\"\"\n",
    "    for row, image in progress_bar(ds):\n",
    "        stem = pathlib.Path(row[DatasetKeys.PATH.value]).stem\n",
    "        write_to_s3(\n",
    "            data=image.bytes(image_format=image_format),\n",
    "            bucket=bucket,\n",
    "            key=f'{key}/{stem}.{image_format}',\n",
    "            content_type=ContentType[image_format]\n",
    "        )\n",
    "    \n",
    "    if readme is None:\n",
    "        readme = self.create_default_readme(self.df)\n",
    "    quilt_tools.update_df(\n",
    "        ds.df,\n",
    "        user=user,\n",
    "        pkg=pkg,\n",
    "        readme=readme,\n",
    "        hash_key=hash_key\n",
    "    )"
   ]
  },
  {
   "cell_type": "code",
   "execution_count": null,
   "metadata": {},
   "outputs": [],
   "source": [
    "%debug"
   ]
  },
  {
   "cell_type": "code",
   "execution_count": null,
   "metadata": {},
   "outputs": [],
   "source": [
    "ds.view_row(6)"
   ]
  },
  {
   "cell_type": "code",
   "execution_count": null,
   "metadata": {},
   "outputs": [],
   "source": [
    "create_quilt_dataset(ds)"
   ]
  },
  {
   "cell_type": "code",
   "execution_count": null,
   "metadata": {},
   "outputs": [],
   "source": [
    "df.labels"
   ]
  },
  {
   "cell_type": "code",
   "execution_count": null,
   "metadata": {},
   "outputs": [],
   "source": [
    "df"
   ]
  },
  {
   "cell_type": "code",
   "execution_count": null,
   "metadata": {},
   "outputs": [],
   "source": [
    "images = image.images_from_box_collection(skip_labels=['unknown',' partial'])\n",
    "\n",
    "for i in images:\n",
    "    print(i.serialize(path='0'))"
   ]
  },
  {
   "cell_type": "code",
   "execution_count": null,
   "metadata": {},
   "outputs": [],
   "source": [
    "image = new_ds.images_lazy[0]"
   ]
  },
  {
   "cell_type": "code",
   "execution_count": null,
   "metadata": {},
   "outputs": [],
   "source": [
    "x = []\n",
    "for i, row in new_ds.df.iterrows():\n",
    "    if row['labels'][0] == 'visible':\n",
    "        x.append(int(row['labels'][1]))"
   ]
  },
  {
   "cell_type": "code",
   "execution_count": null,
   "metadata": {},
   "outputs": [],
   "source": [
    "len(x)"
   ]
  },
  {
   "cell_type": "code",
   "execution_count": null,
   "metadata": {},
   "outputs": [],
   "source": [
    "import numpy as np\n",
    "import seaborn as sns\n",
    "\n",
    "sns.distplot(x, bins=60, kde=False)"
   ]
  },
  {
   "cell_type": "code",
   "execution_count": null,
   "metadata": {},
   "outputs": [],
   "source": [
    "type(ds.df.iloc[0])"
   ]
  },
  {
   "cell_type": "code",
   "execution_count": null,
   "metadata": {},
   "outputs": [],
   "source": [
    "ds.images_lazy[0].box_collection.labels_list"
   ]
  },
  {
   "cell_type": "code",
   "execution_count": null,
   "metadata": {},
   "outputs": [],
   "source": [
    "from nucleus.visualize.matplotlib import BasketballJerseyLabelColorMap\n",
    "\n",
    "box_args = {\n",
    "    'label_color_map': BasketballJerseyLabelColorMap,\n",
    "    'alpha': 0.5,\n",
    "    'caption_box_alpha': 0.5,\n",
    "    'skip_labels': ['occluded', 'partial', 'unknown']\n",
    "}"
   ]
  },
  {
   "cell_type": "code",
   "execution_count": null,
   "metadata": {},
   "outputs": [],
   "source": [
    "image = ds.images_lazy[2]"
   ]
  },
  {
   "cell_type": "code",
   "execution_count": null,
   "metadata": {},
   "outputs": [],
   "source": [
    "len(ds.images_lazy)"
   ]
  },
  {
   "cell_type": "code",
   "execution_count": null,
   "metadata": {},
   "outputs": [],
   "source": [
    "image.view(box_args=box_args)"
   ]
  },
  {
   "cell_type": "code",
   "execution_count": null,
   "metadata": {},
   "outputs": [],
   "source": []
  }
 ],
 "metadata": {
  "kernelspec": {
   "display_name": "Python 3",
   "language": "python",
   "name": "python3"
  },
  "language_info": {
   "codemirror_mode": {
    "name": "ipython",
    "version": 3
   },
   "file_extension": ".py",
   "mimetype": "text/x-python",
   "name": "python",
   "nbconvert_exporter": "python",
   "pygments_lexer": "ipython3",
   "version": "3.6.0"
  }
 },
 "nbformat": 4,
 "nbformat_minor": 2
}
